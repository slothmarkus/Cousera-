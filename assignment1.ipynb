{
 "cells": [
  {
   "cell_type": "markdown",
   "id": "7d7e34c5",
   "metadata": {},
   "source": [
    "# My Jupyter Notebook on IBM Watson Studio\n"
   ]
  },
  {
   "cell_type": "markdown",
   "id": "8fb95681",
   "metadata": {},
   "source": [
    "__Markus Sloth__   \\\n",
    "Health data scientist"
   ]
  },
  {
   "cell_type": "markdown",
   "id": "d2cfebd9",
   "metadata": {},
   "source": [
    "_I am interested in data science because I am interested in how data can provide valuable insights that can help decision markers_ "
   ]
  },
  {
   "cell_type": "markdown",
   "id": "6aad8527",
   "metadata": {},
   "source": [
    "### My code assigns two variable numbers and adds them together in variable c. It then print the value in variable c. "
   ]
  },
  {
   "cell_type": "code",
   "execution_count": 2,
   "id": "15ddc87f",
   "metadata": {},
   "outputs": [
    {
     "name": "stdout",
     "output_type": "stream",
     "text": [
      "5\n"
     ]
    }
   ],
   "source": [
    "a=2\n",
    "b=3\n",
    "c=a+b\n",
    "print(c)"
   ]
  },
  {
   "cell_type": "markdown",
   "id": "6c36130f",
   "metadata": {},
   "source": [
    " Using Markdown or HTML, this cell must include at least 3 of the following: \n",
    " \n",
    "  horizontal rule\n",
    "  ___\n",
    " * bulleted list\n",
    "     * a\n",
    "     * b \n",
    " 3. numbered list\n",
    "     1. a\n",
    "     2. b\n",
    "     3. c \n"
   ]
  }
 ],
 "metadata": {
  "kernelspec": {
   "display_name": "Python 3 (ipykernel)",
   "language": "python",
   "name": "python3"
  },
  "language_info": {
   "codemirror_mode": {
    "name": "ipython",
    "version": 3
   },
   "file_extension": ".py",
   "mimetype": "text/x-python",
   "name": "python",
   "nbconvert_exporter": "python",
   "pygments_lexer": "ipython3",
   "version": "3.9.13"
  }
 },
 "nbformat": 4,
 "nbformat_minor": 5
}
